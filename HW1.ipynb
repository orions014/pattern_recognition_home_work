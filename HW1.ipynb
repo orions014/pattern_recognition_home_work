{
  "nbformat": 4,
  "nbformat_minor": 0,
  "metadata": {
    "colab": {
      "name": "HW1.ipynb",
      "provenance": [],
      "collapsed_sections": []
    },
    "kernelspec": {
      "name": "python3",
      "display_name": "Python 3"
    }
  },
  "cells": [
    {
      "cell_type": "code",
      "metadata": {
        "colab": {
          "base_uri": "https://localhost:8080/"
        },
        "id": "9T7kRZFh8Xil",
        "outputId": "f9096747-a638-4d6b-956f-683fb8f5f9c4"
      },
      "source": [
        "!apt-get install -y -qq software-properties-common python-software-properties module-init-tools\r\n",
        "!add-apt-repository -y ppa:alessandro-strada/ppa 2>&1 > /dev/null\r\n",
        "!apt-get update -qq 2>&1 > /dev/null\r\n",
        "!apt-get -y install -qq google-drive-ocamlfuse fuse\r\n",
        "from google.colab import auth\r\n",
        "auth.authenticate_user()\r\n",
        "from oauth2client.client import GoogleCredentials\r\n",
        "creds = GoogleCredentials.get_application_default()\r\n",
        "import getpass\r\n",
        "!google-drive-ocamlfuse -headless -id={creds.client_id} -secret={creds.client_secret} < /dev/null 2>&1 | grep URL\r\n",
        "vcode = getpass.getpass()\r\n",
        "!echo {vcode} | google-drive-ocamlfuse -headless -id={creds.client_id} -secret={creds.client_secret}"
      ],
      "execution_count": null,
      "outputs": [
        {
          "output_type": "stream",
          "text": [
            "E: Package 'python-software-properties' has no installation candidate\n",
            "Selecting previously unselected package google-drive-ocamlfuse.\n",
            "(Reading database ... 146425 files and directories currently installed.)\n",
            "Preparing to unpack .../google-drive-ocamlfuse_0.7.24-0ubuntu1~ubuntu18.04.1_amd64.deb ...\n",
            "Unpacking google-drive-ocamlfuse (0.7.24-0ubuntu1~ubuntu18.04.1) ...\n",
            "Setting up google-drive-ocamlfuse (0.7.24-0ubuntu1~ubuntu18.04.1) ...\n",
            "Processing triggers for man-db (2.8.3-2ubuntu0.1) ...\n",
            "Please, open the following URL in a web browser: https://accounts.google.com/o/oauth2/auth?client_id=32555940559.apps.googleusercontent.com&redirect_uri=urn%3Aietf%3Awg%3Aoauth%3A2.0%3Aoob&scope=https%3A%2F%2Fwww.googleapis.com%2Fauth%2Fdrive&response_type=code&access_type=offline&approval_prompt=force\n",
            "··········\n",
            "Please, open the following URL in a web browser: https://accounts.google.com/o/oauth2/auth?client_id=32555940559.apps.googleusercontent.com&redirect_uri=urn%3Aietf%3Awg%3Aoauth%3A2.0%3Aoob&scope=https%3A%2F%2Fwww.googleapis.com%2Fauth%2Fdrive&response_type=code&access_type=offline&approval_prompt=force\n",
            "Please enter the verification code: Access token retrieved correctly.\n"
          ],
          "name": "stdout"
        }
      ]
    },
    {
      "cell_type": "code",
      "metadata": {
        "id": "4wFJkSm68rXk"
      },
      "source": [
        "!mkdir -p drive\r\n",
        "!google-drive-ocamlfuse drive"
      ],
      "execution_count": null,
      "outputs": []
    },
    {
      "cell_type": "code",
      "metadata": {
        "colab": {
          "base_uri": "https://localhost:8080/"
        },
        "id": "2JvvrZJS89lx",
        "outputId": "a1112a71-4cf1-4ded-a25c-b81a556132f5"
      },
      "source": [
        "!pwd"
      ],
      "execution_count": null,
      "outputs": [
        {
          "output_type": "stream",
          "text": [
            "/content\n"
          ],
          "name": "stdout"
        }
      ]
    },
    {
      "cell_type": "code",
      "metadata": {
        "id": "HU0rFX2k9ABj"
      },
      "source": [
        "!cp -rf drive/colab/pattern_recognition_course/chunkedData_NR .\r\n"
      ],
      "execution_count": null,
      "outputs": []
    },
    {
      "cell_type": "code",
      "metadata": {
        "id": "9MUQyQDH6Wf2"
      },
      "source": [
        "!cp -rf drive/colab/pattern_recognition_course/chunkedData_R .\r\n"
      ],
      "execution_count": null,
      "outputs": []
    },
    {
      "cell_type": "code",
      "metadata": {
        "colab": {
          "base_uri": "https://localhost:8080/"
        },
        "id": "uPQlLc999PXm",
        "outputId": "36264167-6bfb-457b-cac8-3645d11bf37c"
      },
      "source": [
        "ls chunkedData_NR/"
      ],
      "execution_count": 142,
      "outputs": [
        {
          "output_type": "stream",
          "text": [
            "Daily_2002_S1.csv  Daily_2029_S2.csv  Daily_2057_S3.csv  Daily_2080_S1.csv\n",
            "Daily_2002_S2.csv  Daily_2029_S3.csv  Daily_2065_S1.csv  Daily_2080_S2.csv\n",
            "Daily_2002_S3.csv  Daily_2052_S1.csv  Daily_2065_S2.csv  Daily_2080_S3.csv\n",
            "Daily_2018_S1.csv  Daily_2052_S2.csv  Daily_2065_S3.csv  Daily_2087_S2.csv\n",
            "Daily_2018_S2.csv  Daily_2052_S3.csv  Daily_2068_S1.csv  Daily_2087_S3.csv\n",
            "Daily_2018_S3.csv  Daily_2057_S1.csv  Daily_2068_S2.csv\n",
            "Daily_2029_S1.csv  Daily_2057_S2.csv  Daily_2068_S3.csv\n"
          ],
          "name": "stdout"
        }
      ]
    },
    {
      "cell_type": "code",
      "metadata": {
        "id": "-DEQ4pd39csD"
      },
      "source": [
        "import pandas as pd\r\n",
        "import numpy as np\r\n",
        "import matplotlib.pyplot as plt\r\n",
        "import glob\r\n",
        "\r\n",
        "import sklearn\r\n",
        "from sklearn import preprocessing\r\n",
        "from sklearn.model_selection import cross_val_score\r\n",
        "from sklearn.model_selection import cross_val_predict\r\n",
        "from sklearn.preprocessing import StandardScaler\r\n",
        "from sklearn.utils import shuffle\r\n",
        "from sklearn.metrics import accuracy_score\r\n",
        "from sklearn.decomposition import PCA\r\n",
        "\r\n",
        "\r\n",
        "from sklearn.model_selection import train_test_split\r\n",
        "from sklearn import metrics \r\n",
        "from sklearn.metrics import confusion_matrix\r\n",
        "from sklearn.metrics import classification_report\r\n",
        "from matplotlib.colors import ListedColormap\r\n",
        "\r\n",
        "\r\n",
        "from sklearn.discriminant_analysis import QuadraticDiscriminantAnalysis\r\n",
        "%matplotlib inline"
      ],
      "execution_count": 230,
      "outputs": []
    },
    {
      "cell_type": "markdown",
      "metadata": {
        "id": "nuiC2_to9GAB"
      },
      "source": [
        "This is a function which takes three arguments as parameter columnNameArray means all the columns name that should be taken from all the csv files,folderpath means where all those csv files exist I have used Google colab to write my code thats why all the files are in my Google drive folder,outputvalue means if it is a csv folder of chunkedData_NR or chunkedData_R . Here when the outputvalue is 0 that means all the csv files are coming from chunkedData_NR and 1 is if it is coming from chunkedData_R.\r\n",
        "\r\n",
        "**This function adds a new column named as Output to the dataFrame tem_dataFrame. This Output column is the y value or the classification column. value of Output column will be 0 if csv files are from chunkedData_NR and otherwise if the value is 1 then this means csv files are from chunkedData_R.**"
      ]
    },
    {
      "cell_type": "code",
      "metadata": {
        "id": "OU5txXix-R6I"
      },
      "source": [
        "\r\n",
        "\r\n",
        "def getMergedDataframe(columnNameArray,folderpath,outputvalue): \r\n",
        "  Merged_dataFrame = []\r\n",
        "  for file_name in glob.glob(folderpath+'*.csv'):\r\n",
        "      tem_dataFrame = pd.read_csv(file_name, low_memory=False)\r\n",
        "\r\n",
        "      # Create all the series in the dataframe\r\n",
        "      tem_dataFrame= tem_dataFrame[columnNameArray]\r\n",
        "      \r\n",
        "      # Get all the column values\r\n",
        "      nu_rows = tem_dataFrame.shape[0]\r\n",
        "\r\n",
        "      # Add a new series in the dataframe which is the output y for ChunkedData R \r\n",
        "      Output = [outputvalue for i in range(0,nu_rows)]\r\n",
        "      tem_dataFrame[\"Output\"] = Output\r\n",
        "\r\n",
        "      #removing all the NA rows\r\n",
        "      tem_dataFrame=tem_dataFrame.dropna()\r\n",
        "\r\n",
        "      #Get all the columns valu of the dataframe\r\n",
        "      columns = tem_dataFrame.columns.values.tolist()                     \r\n",
        "\r\n",
        "      # Get all columns  mean value\r\n",
        "      for col in columns:\r\n",
        "          tem_dataFrame[col] = tem_dataFrame[col].mean()\r\n",
        "\r\n",
        "      #dropping all duplicate rows\r\n",
        "      tem_dataFrame = tem_dataFrame.drop_duplicates()\r\n",
        "\r\n",
        "      Merged_dataFrame.append(tem_dataFrame)\r\n",
        "\r\n",
        "  Merged_dataFrame = pd.concat(Merged_dataFrame)\r\n",
        "  return Merged_dataFrame"
      ],
      "execution_count": 231,
      "outputs": []
    },
    {
      "cell_type": "markdown",
      "metadata": {
        "id": "kH0sp4_d7gCL"
      },
      "source": [
        "**Form a  two dataFrame from all the csv files of chunked_NR and chunked_R folder then combine the two dataframes into one Merged dataFrame. The total number of rows is 40. Here I am taking only columns from B to N from all the csv files**\r\n",
        "\r\n",
        "[\"Morning_Question1\",\"Morning_Question2\",\"Morning_Question3\",\"Morning_Question4\",\"Morning_Question5\",\"Morning_Question6\",\r\n",
        "                  \"Afternoon_Question1\",\"Afternoon_Question2\",\"Afternoon_Question3\",\"Afternoon_Question4\",\"Afternoon_Question5\",\"Afternoon_Question6\",\"Afternoon_Question7\"]"
      ]
    },
    {
      "cell_type": "code",
      "metadata": {
        "colab": {
          "base_uri": "https://localhost:8080/"
        },
        "id": "8q0D5Brwsypq",
        "outputId": "82a532b7-3051-483c-c9ef-899a3b7899ca"
      },
      "source": [
        "\r\n",
        "\r\n",
        "Merged_dataFrame = []\r\n",
        "\r\n",
        "#Get all the values from Chunked Data NR\r\n",
        "columnName_BN = [\"Morning_Question1\",\"Morning_Question2\",\"Morning_Question3\",\"Morning_Question4\",\"Morning_Question5\",\"Morning_Question6\",\r\n",
        "                  \"Afternoon_Question1\",\"Afternoon_Question2\",\"Afternoon_Question3\",\"Afternoon_Question4\",\"Afternoon_Question5\",\"Afternoon_Question6\",\"Afternoon_Question7\"]\r\n",
        "     \r\n",
        "df_NR = getMergedDataframe(columnName_BN,\"drive/colab/pattern_recognition_course/chunkedData_NR/\",0)\r\n",
        "\r\n",
        "#Get all the values from Chunked Data R\r\n",
        "\r\n",
        "df_R  = getMergedDataframe(columnName_BN,\"drive/colab/pattern_recognition_course/chunkedData_R/\",1)\r\n",
        "\r\n",
        "# Appened them to list Merged_dataFrame\r\n",
        "Merged_dataFrame.append(df_NR)\r\n",
        "Merged_dataFrame.append(df_R)\r\n",
        "\r\n",
        "# covert the list to dataframe\r\n",
        "Merged_dataFrame = pd.concat(Merged_dataFrame)\r\n",
        "Merged_dataFrame.sample(frac=1)\r\n",
        "print(\"Total rows \",Merged_dataFrame.shape[0])\r\n",
        "print(\"Top first 5 rows\")\r\n",
        "print(Merged_dataFrame.head(10))"
      ],
      "execution_count": 232,
      "outputs": [
        {
          "output_type": "stream",
          "text": [
            "Total rows  40\n",
            "Top first 5 rows\n",
            "   Morning_Question1  Morning_Question2  ...  Afternoon_Question7  Output\n",
            "0           4.931034           3.689655  ...             5.000000     0.0\n",
            "0           3.037037           4.555556  ...             5.000000     0.0\n",
            "0           2.958333           2.750000  ...             3.500000     0.0\n",
            "0           4.000000           3.185185  ...             5.000000     0.0\n",
            "0           3.448276           4.103448  ...             4.862069     0.0\n",
            "0           1.000000           1.000000  ...             1.208333     0.0\n",
            "0           3.551724           2.103448  ...             3.517241     0.0\n",
            "0           1.000000           1.041667  ...             1.833333     0.0\n",
            "0           4.000000           4.000000  ...             3.931034     0.0\n",
            "0           1.000000           1.034483  ...             2.793103     0.0\n",
            "\n",
            "[10 rows x 14 columns]\n"
          ],
          "name": "stdout"
        }
      ]
    },
    {
      "cell_type": "markdown",
      "metadata": {
        "id": "QNCFq1RDAa23"
      },
      "source": [
        "**Taking X value/ features from Merged_dataFrame. Here input features are columns  Morning_Question1,Morning_Question2,Morning_Question3,Morning_Question4,Morning_Question5,Morning_Question6, Afternoon_Question1,Afternoon_Question2,Afternoon_Question3,Afternoon_Question4,Afternoon_Question5, Afternoon_Question6,Afternoon_Question7. Output column feature/ prediction column is the column named Output.**"
      ]
    },
    {
      "cell_type": "code",
      "metadata": {
        "id": "cthbxv5BcAHv"
      },
      "source": [
        "#Analysis data from Column B to Column N\r\n",
        "\r\n",
        "X = Merged_dataFrame[[\"Morning_Question1\",\"Morning_Question2\",\"Morning_Question3\",\"Morning_Question4\",\"Morning_Question5\",\"Morning_Question6\",\r\n",
        "                                    \"Afternoon_Question1\",\"Afternoon_Question2\",\"Afternoon_Question3\",\"Afternoon_Question4\",\"Afternoon_Question5\",\r\n",
        "                      \"Afternoon_Question6\",\"Afternoon_Question7\"]]\r\n",
        "   \r\n",
        "y = Merged_dataFrame[\"Output\"]\r\n",
        "X, y = shuffle(X, y)\r\n",
        "\r\n",
        "#Split training and testing data into 80% and 20%\r\n",
        "X_train, X_test, y_train, y_test = train_test_split( X, y, test_size=0.2, random_state=0)\r\n",
        "\r\n",
        "#Scale the input feature X_train\r\n",
        "scaler = preprocessing.StandardScaler().fit(X_train)\r\n",
        "X_train_transformed = scaler.transform(X_train)\r\n",
        "\r\n",
        "\r\n",
        "\r\n",
        "  "
      ],
      "execution_count": 233,
      "outputs": []
    },
    {
      "cell_type": "code",
      "metadata": {
        "colab": {
          "base_uri": "https://localhost:8080/"
        },
        "id": "7gdSKv64U_Zp",
        "outputId": "a49213c2-0261-4ac3-a36f-836bab8a7159"
      },
      "source": [
        "#Create object of QuadraticDiscriminantAnalysis or, Bayes multivariate discriminant classifier\r\n",
        "clf = QuadraticDiscriminantAnalysis()\r\n",
        "clf.fit(X_train_transformed, y_train)"
      ],
      "execution_count": 234,
      "outputs": [
        {
          "output_type": "stream",
          "text": [
            "/usr/local/lib/python3.6/dist-packages/sklearn/discriminant_analysis.py:691: UserWarning: Variables are collinear\n",
            "  warnings.warn(\"Variables are collinear\")\n"
          ],
          "name": "stderr"
        },
        {
          "output_type": "execute_result",
          "data": {
            "text/plain": [
              "QuadraticDiscriminantAnalysis(priors=None, reg_param=0.0,\n",
              "                              store_covariance=False, tol=0.0001)"
            ]
          },
          "metadata": {
            "tags": []
          },
          "execution_count": 234
        }
      ]
    },
    {
      "cell_type": "code",
      "metadata": {
        "id": "uzL_EqLGYboZ"
      },
      "source": [
        "from sklearn.decomposition import PCA\r\n",
        "pca = PCA(n_components = 2)\r\n",
        "scaler1 = preprocessing.StandardScaler().fit(X)\r\n",
        "X_train_transformed = scaler1.transform(X)\r\n",
        "X_train_pca = pca.fit_transform(X_train_transformed)\r\n",
        "X_test_pca = pca.transform(X_test)"
      ],
      "execution_count": 235,
      "outputs": []
    },
    {
      "cell_type": "code",
      "metadata": {
        "colab": {
          "base_uri": "https://localhost:8080/"
        },
        "id": "EriGz3nAW1PZ",
        "outputId": "cf6c7ec7-685a-441c-f1ea-10a2d854b5b5"
      },
      "source": [
        "from sklearn.linear_model import LogisticRegression\r\n",
        "classifier = LogisticRegression(random_state = 0)\r\n",
        "classifier.fit(X_train_pca, y)"
      ],
      "execution_count": 237,
      "outputs": [
        {
          "output_type": "execute_result",
          "data": {
            "text/plain": [
              "LogisticRegression(C=1.0, class_weight=None, dual=False, fit_intercept=True,\n",
              "                   intercept_scaling=1, l1_ratio=None, max_iter=100,\n",
              "                   multi_class='auto', n_jobs=None, penalty='l2',\n",
              "                   random_state=0, solver='lbfgs', tol=0.0001, verbose=0,\n",
              "                   warm_start=False)"
            ]
          },
          "metadata": {
            "tags": []
          },
          "execution_count": 237
        }
      ]
    },
    {
      "cell_type": "code",
      "metadata": {
        "id": "7uM8YxCUUnWA",
        "colab": {
          "base_uri": "https://localhost:8080/",
          "height": 350
        },
        "outputId": "c693e967-a265-4a9e-d60c-df7bf2f46591"
      },
      "source": [
        "\r\n",
        "X_set, y_set = X_train_pca, y\r\n",
        "X1, X2 = np.meshgrid(np.arange(start = X_set[:, 0].min() - 1, stop = X_set[:, 0].max() + 1, step = 0.01),\r\n",
        "                     np.arange(start = X_set[:, 1].min() - 1, stop = X_set[:, 1].max() + 1, step = 0.01))\r\n",
        "plt.contourf(X1, X2, classifier.predict(np.array([X1.ravel(), X2.ravel()]).T).reshape(X1.shape),\r\n",
        "             alpha = 0.75, cmap = ListedColormap(('red', 'green')))\r\n",
        "plt.xlim(X1.min(), X1.max())\r\n",
        "plt.ylim(X2.min(), X2.max())\r\n",
        "for i, j in enumerate(np.unique(y_set)):\r\n",
        "    plt.scatter(X_set[y_set == j, 0], X_set[y_set == j, 1],\r\n",
        "                c = ListedColormap(('red', 'green'))(i), label = j)\r\n",
        "plt.title('B to N Training set data analysis')\r\n",
        "plt.xlabel('PC1')\r\n",
        "plt.ylabel('PC2')\r\n",
        "plt.legend()\r\n",
        "plt.show()"
      ],
      "execution_count": 240,
      "outputs": [
        {
          "output_type": "stream",
          "text": [
            "*c* argument looks like a single numeric RGB or RGBA sequence, which should be avoided as value-mapping will have precedence in case its length matches with *x* & *y*.  Please use the *color* keyword-argument or provide a 2-D array with a single row if you intend to specify the same RGB or RGBA value for all points.\n",
            "*c* argument looks like a single numeric RGB or RGBA sequence, which should be avoided as value-mapping will have precedence in case its length matches with *x* & *y*.  Please use the *color* keyword-argument or provide a 2-D array with a single row if you intend to specify the same RGB or RGBA value for all points.\n"
          ],
          "name": "stderr"
        },
        {
          "output_type": "display_data",
          "data": {
            "image/png": "[encoded data removed]",
            "text/plain": [
              "<Figure size 432x288 with 1 Axes>"
            ]
          },
          "metadata": {
            "tags": [],
            "needs_background": "light"
          }
        }
      ]
    },
    {
      "cell_type": "markdown",
      "metadata": {
        "id": "f_3o9zi_BsCC"
      },
      "source": [
        "Predict the value of X_test data.\r\n",
        "The accuracy of the classifier when features are taken from column number B to N is 0.625."
      ]
    },
    {
      "cell_type": "code",
      "metadata": {
        "colab": {
          "base_uri": "https://localhost:8080/"
        },
        "id": "bbkW8yJXBsWE",
        "outputId": "23175dc8-f267-44f0-bc9b-eb8d787d3b52"
      },
      "source": [
        "#Print the  accuracy of testing data\r\n",
        "ypred = clf.predict(X_test)\r\n",
        "\r\n",
        "print(\"Predicted y value of x_test data \",ypred)\r\n",
        "accuracy_BN = accuracy_score(y_true=y_test, y_pred=ypred)\r\n",
        "print(\"Accuracy of BN selected classifier \",accuracy_BN)"
      ],
      "execution_count": 241,
      "outputs": [
        {
          "output_type": "stream",
          "text": [
            "Predicted y value of x_test data  [0. 0. 0. 0. 0. 0. 0. 0.]\n",
            "Accuracy of BN selected classifier  0.5\n"
          ],
          "name": "stdout"
        }
      ]
    },
    {
      "cell_type": "markdown",
      "metadata": {
        "id": "LBVsth1eExLl"
      },
      "source": [
        "#Wiht 10-fold cross validation the confusion matrix of B to N features\r\n"
      ]
    },
    {
      "cell_type": "code",
      "metadata": {
        "colab": {
          "base_uri": "https://localhost:8080/"
        },
        "id": "fWtQ7e7tDp53",
        "outputId": "119d7505-bb73-4c8f-8fc8-9bad7cc35acd"
      },
      "source": [
        "ypred = cross_val_predict(clf, X,y, cv=10)\r\n",
        "true_negative, false_positive, false_negative, true_positive = confusion_matrix(y, ypred).ravel()\r\n",
        "\r\n",
        "print(\"true_positive \",true_positive)\r\n",
        "print(\"true_negative \",true_negative)\r\n",
        "print(\"false_negative \",false_negative)\r\n",
        "print(\"false_positive \",false_positive)\r\n",
        "\r\n",
        "Accuracy = (true_positive+true_negative)/(true_negative+true_positive+false_positive+false_negative)\r\n",
        "Precision =  true_positive / (true_positive+false_positive)\r\n",
        "Recall =  true_positive / (true_positive+false_negative)\r\n",
        "\r\n",
        "print(\"Accuracy with 10 fold cross validation \",Accuracy)\r\n",
        "\r\n",
        "print(\"Precision with 10 fold cross validation \",Precision)\r\n",
        "\r\n",
        "print(\"Recall with 10 fold cross validation \",Recall)\r\n"
      ],
      "execution_count": 242,
      "outputs": [
        {
          "output_type": "stream",
          "text": [
            "true_positive  2\n",
            "true_negative  26\n",
            "false_negative  12\n",
            "false_positive  0\n",
            "Accuracy with 10 fold cross validation  0.7\n",
            "Precision with 10 fold cross validation  1.0\n",
            "Recall with 10 fold cross validation  0.14285714285714285\n"
          ],
          "name": "stdout"
        },
        {
          "output_type": "stream",
          "text": [
            "/usr/local/lib/python3.6/dist-packages/sklearn/discriminant_analysis.py:691: UserWarning: Variables are collinear\n",
            "  warnings.warn(\"Variables are collinear\")\n",
            "/usr/local/lib/python3.6/dist-packages/sklearn/discriminant_analysis.py:691: UserWarning: Variables are collinear\n",
            "  warnings.warn(\"Variables are collinear\")\n",
            "/usr/local/lib/python3.6/dist-packages/sklearn/discriminant_analysis.py:691: UserWarning: Variables are collinear\n",
            "  warnings.warn(\"Variables are collinear\")\n",
            "/usr/local/lib/python3.6/dist-packages/sklearn/discriminant_analysis.py:691: UserWarning: Variables are collinear\n",
            "  warnings.warn(\"Variables are collinear\")\n",
            "/usr/local/lib/python3.6/dist-packages/sklearn/discriminant_analysis.py:691: UserWarning: Variables are collinear\n",
            "  warnings.warn(\"Variables are collinear\")\n",
            "/usr/local/lib/python3.6/dist-packages/sklearn/discriminant_analysis.py:691: UserWarning: Variables are collinear\n",
            "  warnings.warn(\"Variables are collinear\")\n",
            "/usr/local/lib/python3.6/dist-packages/sklearn/discriminant_analysis.py:691: UserWarning: Variables are collinear\n",
            "  warnings.warn(\"Variables are collinear\")\n",
            "/usr/local/lib/python3.6/dist-packages/sklearn/discriminant_analysis.py:691: UserWarning: Variables are collinear\n",
            "  warnings.warn(\"Variables are collinear\")\n",
            "/usr/local/lib/python3.6/dist-packages/sklearn/discriminant_analysis.py:691: UserWarning: Variables are collinear\n",
            "  warnings.warn(\"Variables are collinear\")\n",
            "/usr/local/lib/python3.6/dist-packages/sklearn/discriminant_analysis.py:691: UserWarning: Variables are collinear\n",
            "  warnings.warn(\"Variables are collinear\")\n"
          ],
          "name": "stderr"
        }
      ]
    },
    {
      "cell_type": "markdown",
      "metadata": {
        "id": "YRKGOUeoIIwt"
      },
      "source": [
        "#Confusion matrix with 20 fold cross validation of B to N features"
      ]
    },
    {
      "cell_type": "code",
      "metadata": {
        "colab": {
          "base_uri": "https://localhost:8080/"
        },
        "id": "-q3MEeqPIHrX",
        "outputId": "652b0add-cfa7-4531-b95e-4d72bde29e29"
      },
      "source": [
        "ypred = cross_val_predict(clf, X, y, cv=20)\r\n",
        "true_negative, false_positive, false_negative, true_positive = confusion_matrix(y, ypred).ravel()\r\n",
        "\r\n",
        "print(\"true_positive \",true_positive)\r\n",
        "print(\"true_negative \",true_negative)\r\n",
        "print(\"false_negative \",false_negative)\r\n",
        "print(\"false_positive \",false_positive)\r\n",
        "\r\n",
        "Accuracy = (true_positive+true_negative)/(true_negative+true_positive+false_positive+false_negative)\r\n",
        "Precision =  true_positive / (true_positive+false_positive)\r\n",
        "Recall =  true_positive / (true_positive+false_negative)\r\n",
        "\r\n",
        "print(\"Accuracy with 20 fold cross validation \",Accuracy)\r\n",
        "\r\n",
        "print(\"Precision with 20 fold cross validation \",Precision)\r\n",
        "\r\n",
        "print(\"Recall with 20 fold cross validation \",Recall)\r\n"
      ],
      "execution_count": 243,
      "outputs": [
        {
          "output_type": "stream",
          "text": [
            "true_positive  2\n",
            "true_negative  26\n",
            "false_negative  12\n",
            "false_positive  0\n",
            "Accuracy with 20 fold cross validation  0.7\n",
            "Precision with 20 fold cross validation  1.0\n",
            "Recall with 20 fold cross validation  0.14285714285714285\n"
          ],
          "name": "stdout"
        },
        {
          "output_type": "stream",
          "text": [
            "/usr/local/lib/python3.6/dist-packages/sklearn/model_selection/_split.py:667: UserWarning: The least populated class in y has only 14 members, which is less than n_splits=20.\n",
            "  % (min_groups, self.n_splits)), UserWarning)\n",
            "/usr/local/lib/python3.6/dist-packages/sklearn/discriminant_analysis.py:691: UserWarning: Variables are collinear\n",
            "  warnings.warn(\"Variables are collinear\")\n",
            "/usr/local/lib/python3.6/dist-packages/sklearn/discriminant_analysis.py:691: UserWarning: Variables are collinear\n",
            "  warnings.warn(\"Variables are collinear\")\n",
            "/usr/local/lib/python3.6/dist-packages/sklearn/discriminant_analysis.py:691: UserWarning: Variables are collinear\n",
            "  warnings.warn(\"Variables are collinear\")\n",
            "/usr/local/lib/python3.6/dist-packages/sklearn/discriminant_analysis.py:691: UserWarning: Variables are collinear\n",
            "  warnings.warn(\"Variables are collinear\")\n",
            "/usr/local/lib/python3.6/dist-packages/sklearn/discriminant_analysis.py:691: UserWarning: Variables are collinear\n",
            "  warnings.warn(\"Variables are collinear\")\n",
            "/usr/local/lib/python3.6/dist-packages/sklearn/discriminant_analysis.py:691: UserWarning: Variables are collinear\n",
            "  warnings.warn(\"Variables are collinear\")\n",
            "/usr/local/lib/python3.6/dist-packages/sklearn/discriminant_analysis.py:691: UserWarning: Variables are collinear\n",
            "  warnings.warn(\"Variables are collinear\")\n",
            "/usr/local/lib/python3.6/dist-packages/sklearn/discriminant_analysis.py:691: UserWarning: Variables are collinear\n",
            "  warnings.warn(\"Variables are collinear\")\n",
            "/usr/local/lib/python3.6/dist-packages/sklearn/discriminant_analysis.py:691: UserWarning: Variables are collinear\n",
            "  warnings.warn(\"Variables are collinear\")\n",
            "/usr/local/lib/python3.6/dist-packages/sklearn/discriminant_analysis.py:691: UserWarning: Variables are collinear\n",
            "  warnings.warn(\"Variables are collinear\")\n",
            "/usr/local/lib/python3.6/dist-packages/sklearn/discriminant_analysis.py:691: UserWarning: Variables are collinear\n",
            "  warnings.warn(\"Variables are collinear\")\n",
            "/usr/local/lib/python3.6/dist-packages/sklearn/discriminant_analysis.py:691: UserWarning: Variables are collinear\n",
            "  warnings.warn(\"Variables are collinear\")\n",
            "/usr/local/lib/python3.6/dist-packages/sklearn/discriminant_analysis.py:691: UserWarning: Variables are collinear\n",
            "  warnings.warn(\"Variables are collinear\")\n",
            "/usr/local/lib/python3.6/dist-packages/sklearn/discriminant_analysis.py:691: UserWarning: Variables are collinear\n",
            "  warnings.warn(\"Variables are collinear\")\n",
            "/usr/local/lib/python3.6/dist-packages/sklearn/discriminant_analysis.py:691: UserWarning: Variables are collinear\n",
            "  warnings.warn(\"Variables are collinear\")\n",
            "/usr/local/lib/python3.6/dist-packages/sklearn/discriminant_analysis.py:691: UserWarning: Variables are collinear\n",
            "  warnings.warn(\"Variables are collinear\")\n",
            "/usr/local/lib/python3.6/dist-packages/sklearn/discriminant_analysis.py:691: UserWarning: Variables are collinear\n",
            "  warnings.warn(\"Variables are collinear\")\n",
            "/usr/local/lib/python3.6/dist-packages/sklearn/discriminant_analysis.py:691: UserWarning: Variables are collinear\n",
            "  warnings.warn(\"Variables are collinear\")\n",
            "/usr/local/lib/python3.6/dist-packages/sklearn/discriminant_analysis.py:691: UserWarning: Variables are collinear\n",
            "  warnings.warn(\"Variables are collinear\")\n",
            "/usr/local/lib/python3.6/dist-packages/sklearn/discriminant_analysis.py:691: UserWarning: Variables are collinear\n",
            "  warnings.warn(\"Variables are collinear\")\n"
          ],
          "name": "stderr"
        }
      ]
    },
    {
      "cell_type": "markdown",
      "metadata": {
        "id": "qsXHu_hvBst1"
      },
      "source": [
        "The mean accuracy of X_test value is 0.625"
      ]
    },
    {
      "cell_type": "markdown",
      "metadata": {
        "id": "J80XDpAWBtNg"
      },
      "source": [
        "\r\n",
        "#Print the mean accuracy of testing data\r\n",
        "X_test_transformed = scaler.transform(X_test)\r\n",
        "clf.score(X_test_transformed, y_test)\r\n",
        "mean_accuracy_BN = clf.score(X_test_transformed, y_test)\r\n",
        "print(\"Mean accuracy\",mean_accuracy_BN)\r\n",
        "\r\n"
      ]
    },
    {
      "cell_type": "markdown",
      "metadata": {
        "id": "Fv63ZQnxDFKC"
      },
      "source": [
        "The Confusion matrix of the classification when features are from column number B to column number N.\r\n",
        "as the percentage of test data is 20% so 20% data of 40 rows is 8 rows.\r\n",
        "\r\n"
      ]
    },
    {
      "cell_type": "markdown",
      "metadata": {
        "id": "044aDI5CDHoQ"
      },
      "source": [
        "when cross validation value is 10 the accuracy array below is showing that it is most of the time is between 0.75 and 0.5 and only twice it is 1. "
      ]
    },
    {
      "cell_type": "code",
      "metadata": {
        "colab": {
          "base_uri": "https://localhost:8080/"
        },
        "id": "hoS2OfGvDH3x",
        "outputId": "25d3cb91-2dfe-49cb-b9c0-45e8ddcf29e2"
      },
      "source": [
        "#Show the 10 fold cross validation\r\n",
        "cv_columns_BN_10_fold = cross_val_score(clf, X, y, cv=10,scoring=\"accuracy\")\r\n",
        "\r\n",
        "print(\"With 10 fold cross validation accuracy array\",cv_columns_BN_10_fold)\r\n",
        "\r\n"
      ],
      "execution_count": 244,
      "outputs": [
        {
          "output_type": "stream",
          "text": [
            "With 10 fold cross validation accuracy array [0.75 0.75 0.5  0.5  0.75 0.75 0.75 0.75 0.75 0.75]\n"
          ],
          "name": "stdout"
        },
        {
          "output_type": "stream",
          "text": [
            "/usr/local/lib/python3.6/dist-packages/sklearn/discriminant_analysis.py:691: UserWarning: Variables are collinear\n",
            "  warnings.warn(\"Variables are collinear\")\n",
            "/usr/local/lib/python3.6/dist-packages/sklearn/discriminant_analysis.py:691: UserWarning: Variables are collinear\n",
            "  warnings.warn(\"Variables are collinear\")\n",
            "/usr/local/lib/python3.6/dist-packages/sklearn/discriminant_analysis.py:691: UserWarning: Variables are collinear\n",
            "  warnings.warn(\"Variables are collinear\")\n",
            "/usr/local/lib/python3.6/dist-packages/sklearn/discriminant_analysis.py:691: UserWarning: Variables are collinear\n",
            "  warnings.warn(\"Variables are collinear\")\n",
            "/usr/local/lib/python3.6/dist-packages/sklearn/discriminant_analysis.py:691: UserWarning: Variables are collinear\n",
            "  warnings.warn(\"Variables are collinear\")\n",
            "/usr/local/lib/python3.6/dist-packages/sklearn/discriminant_analysis.py:691: UserWarning: Variables are collinear\n",
            "  warnings.warn(\"Variables are collinear\")\n",
            "/usr/local/lib/python3.6/dist-packages/sklearn/discriminant_analysis.py:691: UserWarning: Variables are collinear\n",
            "  warnings.warn(\"Variables are collinear\")\n",
            "/usr/local/lib/python3.6/dist-packages/sklearn/discriminant_analysis.py:691: UserWarning: Variables are collinear\n",
            "  warnings.warn(\"Variables are collinear\")\n",
            "/usr/local/lib/python3.6/dist-packages/sklearn/discriminant_analysis.py:691: UserWarning: Variables are collinear\n",
            "  warnings.warn(\"Variables are collinear\")\n",
            "/usr/local/lib/python3.6/dist-packages/sklearn/discriminant_analysis.py:691: UserWarning: Variables are collinear\n",
            "  warnings.warn(\"Variables are collinear\")\n"
          ],
          "name": "stderr"
        }
      ]
    },
    {
      "cell_type": "markdown",
      "metadata": {
        "id": "Ljz5CX11DKKS"
      },
      "source": [
        "**when cross validation value is 20 the accuracy array below is showing that it is most of the time is  0.5 and only for eight time it is 1. **"
      ]
    },
    {
      "cell_type": "code",
      "metadata": {
        "colab": {
          "base_uri": "https://localhost:8080/"
        },
        "id": "_Qc7dHVSDKY_",
        "outputId": "b615995f-5656-49f5-f811-21147b2f9ab4"
      },
      "source": [
        "#Show the 20 fold cross validation\r\n",
        "cv_columns_BN_20_fold =  cross_val_score(clf, X, y, cv=20,scoring=\"accuracy\")\r\n",
        "print(\"With 20 fold cross valiadtion accuracy array\", cv_columns_BN_20_fold)"
      ],
      "execution_count": 245,
      "outputs": [
        {
          "output_type": "stream",
          "text": [
            "With 20 fold cross valiadtion accuracy array [1.  0.5 1.  0.5 0.5 0.5 0.5 0.5 0.5 0.5 0.5 0.5 0.5 0.5 1.  1.  1.  1.\n",
            " 1.  1. ]\n"
          ],
          "name": "stdout"
        },
        {
          "output_type": "stream",
          "text": [
            "/usr/local/lib/python3.6/dist-packages/sklearn/model_selection/_split.py:667: UserWarning: The least populated class in y has only 14 members, which is less than n_splits=20.\n",
            "  % (min_groups, self.n_splits)), UserWarning)\n",
            "/usr/local/lib/python3.6/dist-packages/sklearn/discriminant_analysis.py:691: UserWarning: Variables are collinear\n",
            "  warnings.warn(\"Variables are collinear\")\n",
            "/usr/local/lib/python3.6/dist-packages/sklearn/discriminant_analysis.py:691: UserWarning: Variables are collinear\n",
            "  warnings.warn(\"Variables are collinear\")\n",
            "/usr/local/lib/python3.6/dist-packages/sklearn/discriminant_analysis.py:691: UserWarning: Variables are collinear\n",
            "  warnings.warn(\"Variables are collinear\")\n",
            "/usr/local/lib/python3.6/dist-packages/sklearn/discriminant_analysis.py:691: UserWarning: Variables are collinear\n",
            "  warnings.warn(\"Variables are collinear\")\n",
            "/usr/local/lib/python3.6/dist-packages/sklearn/discriminant_analysis.py:691: UserWarning: Variables are collinear\n",
            "  warnings.warn(\"Variables are collinear\")\n",
            "/usr/local/lib/python3.6/dist-packages/sklearn/discriminant_analysis.py:691: UserWarning: Variables are collinear\n",
            "  warnings.warn(\"Variables are collinear\")\n",
            "/usr/local/lib/python3.6/dist-packages/sklearn/discriminant_analysis.py:691: UserWarning: Variables are collinear\n",
            "  warnings.warn(\"Variables are collinear\")\n",
            "/usr/local/lib/python3.6/dist-packages/sklearn/discriminant_analysis.py:691: UserWarning: Variables are collinear\n",
            "  warnings.warn(\"Variables are collinear\")\n",
            "/usr/local/lib/python3.6/dist-packages/sklearn/discriminant_analysis.py:691: UserWarning: Variables are collinear\n",
            "  warnings.warn(\"Variables are collinear\")\n",
            "/usr/local/lib/python3.6/dist-packages/sklearn/discriminant_analysis.py:691: UserWarning: Variables are collinear\n",
            "  warnings.warn(\"Variables are collinear\")\n",
            "/usr/local/lib/python3.6/dist-packages/sklearn/discriminant_analysis.py:691: UserWarning: Variables are collinear\n",
            "  warnings.warn(\"Variables are collinear\")\n",
            "/usr/local/lib/python3.6/dist-packages/sklearn/discriminant_analysis.py:691: UserWarning: Variables are collinear\n",
            "  warnings.warn(\"Variables are collinear\")\n",
            "/usr/local/lib/python3.6/dist-packages/sklearn/discriminant_analysis.py:691: UserWarning: Variables are collinear\n",
            "  warnings.warn(\"Variables are collinear\")\n",
            "/usr/local/lib/python3.6/dist-packages/sklearn/discriminant_analysis.py:691: UserWarning: Variables are collinear\n",
            "  warnings.warn(\"Variables are collinear\")\n",
            "/usr/local/lib/python3.6/dist-packages/sklearn/discriminant_analysis.py:691: UserWarning: Variables are collinear\n",
            "  warnings.warn(\"Variables are collinear\")\n",
            "/usr/local/lib/python3.6/dist-packages/sklearn/discriminant_analysis.py:691: UserWarning: Variables are collinear\n",
            "  warnings.warn(\"Variables are collinear\")\n",
            "/usr/local/lib/python3.6/dist-packages/sklearn/discriminant_analysis.py:691: UserWarning: Variables are collinear\n",
            "  warnings.warn(\"Variables are collinear\")\n",
            "/usr/local/lib/python3.6/dist-packages/sklearn/discriminant_analysis.py:691: UserWarning: Variables are collinear\n",
            "  warnings.warn(\"Variables are collinear\")\n",
            "/usr/local/lib/python3.6/dist-packages/sklearn/discriminant_analysis.py:691: UserWarning: Variables are collinear\n",
            "  warnings.warn(\"Variables are collinear\")\n",
            "/usr/local/lib/python3.6/dist-packages/sklearn/discriminant_analysis.py:691: UserWarning: Variables are collinear\n",
            "  warnings.warn(\"Variables are collinear\")\n"
          ],
          "name": "stderr"
        }
      ]
    },
    {
      "cell_type": "code",
      "metadata": {
        "colab": {
          "base_uri": "https://localhost:8080/",
          "height": 631
        },
        "id": "4QKetQb2ms1t",
        "outputId": "4fdddbe8-9b5f-4388-9bee-327c5ded9831"
      },
      "source": [
        "predicted = cross_val_predict(clf, X_train, y_train, cv=10)\r\n",
        "fig, ax = plt.subplots()\r\n",
        "ax.scatter(y_train, predicted)\r\n",
        "ax.plot([y_train.min(), y_train.max()], [y_train.min(), y_train.max()], 'k--', lw=4)\r\n",
        "ax.set_xlabel('Measured')\r\n",
        "ax.set_ylabel('Predicted')\r\n",
        "plt.show()"
      ],
      "execution_count": 246,
      "outputs": [
        {
          "output_type": "stream",
          "text": [
            "/usr/local/lib/python3.6/dist-packages/sklearn/discriminant_analysis.py:691: UserWarning: Variables are collinear\n",
            "  warnings.warn(\"Variables are collinear\")\n",
            "/usr/local/lib/python3.6/dist-packages/sklearn/discriminant_analysis.py:691: UserWarning: Variables are collinear\n",
            "  warnings.warn(\"Variables are collinear\")\n",
            "/usr/local/lib/python3.6/dist-packages/sklearn/discriminant_analysis.py:691: UserWarning: Variables are collinear\n",
            "  warnings.warn(\"Variables are collinear\")\n",
            "/usr/local/lib/python3.6/dist-packages/sklearn/discriminant_analysis.py:691: UserWarning: Variables are collinear\n",
            "  warnings.warn(\"Variables are collinear\")\n",
            "/usr/local/lib/python3.6/dist-packages/sklearn/discriminant_analysis.py:691: UserWarning: Variables are collinear\n",
            "  warnings.warn(\"Variables are collinear\")\n",
            "/usr/local/lib/python3.6/dist-packages/sklearn/discriminant_analysis.py:691: UserWarning: Variables are collinear\n",
            "  warnings.warn(\"Variables are collinear\")\n",
            "/usr/local/lib/python3.6/dist-packages/sklearn/discriminant_analysis.py:691: UserWarning: Variables are collinear\n",
            "  warnings.warn(\"Variables are collinear\")\n",
            "/usr/local/lib/python3.6/dist-packages/sklearn/discriminant_analysis.py:691: UserWarning: Variables are collinear\n",
            "  warnings.warn(\"Variables are collinear\")\n",
            "/usr/local/lib/python3.6/dist-packages/sklearn/discriminant_analysis.py:691: UserWarning: Variables are collinear\n",
            "  warnings.warn(\"Variables are collinear\")\n",
            "/usr/local/lib/python3.6/dist-packages/sklearn/discriminant_analysis.py:691: UserWarning: Variables are collinear\n",
            "  warnings.warn(\"Variables are collinear\")\n"
          ],
          "name": "stderr"
        },
        {
          "output_type": "display_data",
          "data": {
            "image/png": "[encoded data removed]",
            "text/plain": [
              "<Figure size 432x288 with 1 Axes>"
            ]
          },
          "metadata": {
            "tags": [],
            "needs_background": "light"
          }
        }
      ]
    },
    {
      "cell_type": "markdown",
      "metadata": {
        "id": "KtjSDrn8G3YM"
      },
      "source": [
        "I made a dataframe from cross validations arrays cv_cv_columns_BN_10_fold_df and plotted it. it is showing that most of the time accuracy value is 0.75\r\n"
      ]
    },
    {
      "cell_type": "code",
      "metadata": {
        "colab": {
          "base_uri": "https://localhost:8080/",
          "height": 283
        },
        "id": "NeNVNtruoGLJ",
        "outputId": "41e4820c-f1bd-4233-db6b-b507d268a150"
      },
      "source": [
        "\r\n",
        "cv_columns_BN_10_fold_df = pd.DataFrame()\r\n",
        "\r\n",
        "cv_columns_BN_10_fold_df[\"cv_values\"] = pd.Series(cv_columns_BN_10_fold)\r\n",
        "\r\n",
        "cv_columns_BN_10_fold_df.plot.line()"
      ],
      "execution_count": 247,
      "outputs": [
        {
          "output_type": "execute_result",
          "data": {
            "text/plain": [
              "<matplotlib.axes._subplots.AxesSubplot at 0x7f7adf08fa20>"
            ]
          },
          "metadata": {
            "tags": []
          },
          "execution_count": 247
        },
        {
          "output_type": "display_data",
          "data": {
            "image/png": "[encoded data removed]",
            "text/plain": [
              "<Figure size 432x288 with 1 Axes>"
            ]
          },
          "metadata": {
            "tags": [],
            "needs_background": "light"
          }
        }
      ]
    },
    {
      "cell_type": "markdown",
      "metadata": {
        "id": "_eLXciEhM5hb"
      },
      "source": [
        "I made another dataframe from cross validations arrays cv_cv_columns_BN_20_fold_df and plotted it. it is showing that most of the time accuracy value is 0.50.\r\n",
        "\r\n",
        "\r\n"
      ]
    },
    {
      "cell_type": "code",
      "metadata": {
        "colab": {
          "base_uri": "https://localhost:8080/",
          "height": 283
        },
        "id": "e5RSJRNcKTox",
        "outputId": "e49f9bcf-5359-4db7-d0f3-97e5499bc4fa"
      },
      "source": [
        "cv_columns_BN_20_fold_df = pd.DataFrame()\r\n",
        "cv_columns_BN_20_fold_df[\"cv_values\"] = pd.Series(cv_columns_BN_20_fold)  \r\n",
        "cv_columns_BN_20_fold_df.plot.line()\r\n"
      ],
      "execution_count": 248,
      "outputs": [
        {
          "output_type": "execute_result",
          "data": {
            "text/plain": [
              "<matplotlib.axes._subplots.AxesSubplot at 0x7f7adef185f8>"
            ]
          },
          "metadata": {
            "tags": []
          },
          "execution_count": 248
        },
        {
          "output_type": "display_data",
          "data": {
            "image/png": "[encoded data removed]",
            "text/plain": [
              "<Figure size 432x288 with 1 Axes>"
            ]
          },
          "metadata": {
            "tags": [],
            "needs_background": "light"
          }
        }
      ]
    },
    {
      "cell_type": "markdown",
      "metadata": {
        "id": "56coq538NttN"
      },
      "source": [
        "\r\n",
        "# For the second input features IQ to IZ\r\n",
        "**Form a  two dataFrame from all the csv files of chunked_NR and chunked_R folder then combine the two dataframes into one Merged dataFrame. The total number of rows is 40. Here I am taking only columns from IQ to IZ from all the csv files**\r\n",
        "\r\n",
        "** Here input features are columns HR_mean,HR_var,HR_std,HR_sk,HR_ku,Stress_mean,Stress_var,Stress_std,Stress_sk,Stress_ku. Output column feature/ prediction column is the column named Output.**\r\n",
        "\r\n",
        "\r\n",
        "\r\n"
      ]
    },
    {
      "cell_type": "code",
      "metadata": {
        "colab": {
          "base_uri": "https://localhost:8080/"
        },
        "id": "M7sX6QEiNt_O",
        "outputId": "5faf264b-9b5c-4e12-efbd-12b231d935d5"
      },
      "source": [
        "Merged_dataFrame = []\r\n",
        "\r\n",
        "#Get all the values from Chunked Data NR\r\n",
        "columnName_BN = [\"HR_mean\",\"HR_var\",\"HR_std\",\"HR_sk\",\"HR_ku\",\"Stress_mean\",\"Stress_var\",\"Stress_std\",\"Stress_sk\",\"Stress_ku\"]\r\n",
        "     \r\n",
        "df_NR = getMergedDataframe(columnName_BN,\"drive/colab/pattern_recognition_course/chunkedData_NR/\",0)\r\n",
        "\r\n",
        "#Get all the values from Chunked Data R\r\n",
        "\r\n",
        "df_R  = getMergedDataframe(columnName_BN,\"drive/colab/pattern_recognition_course/chunkedData_R/\",1)\r\n",
        "\r\n",
        "# Appened them to list Merged_dataFrame\r\n",
        "Merged_dataFrame.append(df_NR)\r\n",
        "Merged_dataFrame.append(df_R)\r\n",
        "\r\n",
        "# covert the list to dataframe\r\n",
        "Merged_dataFrame = pd.concat(Merged_dataFrame)\r\n",
        "print(\"Total rows \",Merged_dataFrame.shape[0])\r\n",
        "Merged_dataFrame.sample(frac=1)\r\n",
        "print(\"Top first 5 rows\")\r\n",
        "print(Merged_dataFrame.head(3))"
      ],
      "execution_count": 249,
      "outputs": [
        {
          "output_type": "stream",
          "text": [
            "Total rows  40\n",
            "Top first 5 rows\n",
            "     HR_mean      HR_var     HR_std  ...  Stress_sk  Stress_ku  Output\n",
            "0  75.373589  117.100874  10.783752  ...   1.915858   5.422677     0.0\n",
            "0  77.430518  207.842929  13.613289  ...   0.267008  -0.478493     0.0\n",
            "0  82.487746  203.662092  13.876020  ...   0.755373  -0.043052     0.0\n",
            "\n",
            "[3 rows x 11 columns]\n"
          ],
          "name": "stdout"
        }
      ]
    },
    {
      "cell_type": "markdown",
      "metadata": {
        "id": "O7DA9AQhQTr0"
      },
      "source": [
        "**Taking X value/ features from Merged_dataFrame.Here input features are columns HR_mean,HR_var,HR_std,HR_sk,HR_ku,Stress_mean,Stress_var,Stress_std,Stress_sk,Stress_ku. Output column feature/ prediction column is the column named Output.**"
      ]
    },
    {
      "cell_type": "code",
      "metadata": {
        "id": "0ahfluyABgb3"
      },
      "source": [
        "#Analysis data from Column IQ to Column IZ\r\n",
        "\r\n",
        "X = Merged_dataFrame[[\"HR_mean\",\"HR_var\",\"HR_std\",\"HR_sk\",\"HR_ku\",\"Stress_mean\",\"Stress_var\",\"Stress_std\",\"Stress_sk\",\"Stress_ku\"]]\r\n",
        "   \r\n",
        "y = Merged_dataFrame[\"Output\"]\r\n",
        "X, y = shuffle(X, y)\r\n",
        "\r\n",
        "#Split training and testing data into 80% and 20%\r\n",
        "X_train, X_test, y_train, y_test = train_test_split( X, y, test_size=0.2, random_state=0)\r\n",
        "\r\n",
        "#Scale the input feature X_train\r\n",
        "scaler = preprocessing.StandardScaler().fit(X_train)\r\n",
        "X_train_transformed = scaler.transform(X_train)\r\n",
        "\r\n"
      ],
      "execution_count": 257,
      "outputs": []
    },
    {
      "cell_type": "code",
      "metadata": {
        "colab": {
          "base_uri": "https://localhost:8080/"
        },
        "id": "qlYr7Q2eZYhw",
        "outputId": "eba5be09-a0bb-4729-c9dc-07bcc011723c"
      },
      "source": [
        "#Create object of QuadraticDiscriminantAnalysis or, Bayes multivariate discriminant classifier\r\n",
        "clf = QuadraticDiscriminantAnalysis()\r\n",
        "clf.fit(X_train_transformed, y_train)"
      ],
      "execution_count": 258,
      "outputs": [
        {
          "output_type": "execute_result",
          "data": {
            "text/plain": [
              "QuadraticDiscriminantAnalysis(priors=None, reg_param=0.0,\n",
              "                              store_covariance=False, tol=0.0001)"
            ]
          },
          "metadata": {
            "tags": []
          },
          "execution_count": 258
        }
      ]
    },
    {
      "cell_type": "code",
      "metadata": {
        "id": "j3_DWGD8XKU-"
      },
      "source": [
        "pca = PCA(n_components = 2)\r\n",
        "scaler1 = preprocessing.StandardScaler().fit(X)\r\n",
        "X_train_transformed = scaler1.transform(X)\r\n",
        "X_train_pca = pca.fit_transform(X_train_transformed)\r\n",
        "X_test_pca = pca.transform(X_test)"
      ],
      "execution_count": 259,
      "outputs": []
    },
    {
      "cell_type": "code",
      "metadata": {
        "colab": {
          "base_uri": "https://localhost:8080/"
        },
        "id": "JeihTnpdXuWQ",
        "outputId": "d6fcd7cc-ae09-4000-87f6-d2e5b8993fa8"
      },
      "source": [
        "from sklearn.linear_model import LogisticRegression\r\n",
        "classifier = LogisticRegression(random_state = 0)\r\n",
        "classifier.fit(X_train_pca, y)"
      ],
      "execution_count": 260,
      "outputs": [
        {
          "output_type": "execute_result",
          "data": {
            "text/plain": [
              "LogisticRegression(C=1.0, class_weight=None, dual=False, fit_intercept=True,\n",
              "                   intercept_scaling=1, l1_ratio=None, max_iter=100,\n",
              "                   multi_class='auto', n_jobs=None, penalty='l2',\n",
              "                   random_state=0, solver='lbfgs', tol=0.0001, verbose=0,\n",
              "                   warm_start=False)"
            ]
          },
          "metadata": {
            "tags": []
          },
          "execution_count": 260
        }
      ]
    },
    {
      "cell_type": "code",
      "metadata": {
        "colab": {
          "base_uri": "https://localhost:8080/",
          "height": 350
        },
        "id": "lIv34N2FX2qr",
        "outputId": "906aa681-33d6-4a62-efbc-e69d5a5a9985"
      },
      "source": [
        "X_set, y_set = X_train_pca, y\r\n",
        "X1, X2 = np.meshgrid(np.arange(start = X_set[:, 0].min() - 1, stop = X_set[:, 0].max() + 1, step = 0.01),\r\n",
        "                     np.arange(start = X_set[:, 1].min() - 1, stop = X_set[:, 1].max() + 1, step = 0.01))\r\n",
        "plt.contourf(X1, X2, classifier.predict(np.array([X1.ravel(), X2.ravel()]).T).reshape(X1.shape),\r\n",
        "             alpha = 0.75, cmap = ListedColormap(('red', 'green')))\r\n",
        "plt.xlim(X1.min(), X1.max())\r\n",
        "plt.ylim(X2.min(), X2.max())\r\n",
        "for i, j in enumerate(np.unique(y_set)):\r\n",
        "    plt.scatter(X_set[y_set == j, 0], X_set[y_set == j, 1],\r\n",
        "                c = ListedColormap(('red', 'green'))(i), label = j)\r\n",
        "plt.title('IQ to IZ Training set data analysis')\r\n",
        "plt.xlabel('PC1')\r\n",
        "plt.ylabel('PC2')\r\n",
        "plt.legend()\r\n",
        "plt.show()"
      ],
      "execution_count": 261,
      "outputs": [
        {
          "output_type": "stream",
          "text": [
            "*c* argument looks like a single numeric RGB or RGBA sequence, which should be avoided as value-mapping will have precedence in case its length matches with *x* & *y*.  Please use the *color* keyword-argument or provide a 2-D array with a single row if you intend to specify the same RGB or RGBA value for all points.\n",
            "*c* argument looks like a single numeric RGB or RGBA sequence, which should be avoided as value-mapping will have precedence in case its length matches with *x* & *y*.  Please use the *color* keyword-argument or provide a 2-D array with a single row if you intend to specify the same RGB or RGBA value for all points.\n"
          ],
          "name": "stderr"
        },
        {
          "output_type": "display_data",
          "data": {
            "image/png": "[encoded data removed]",
            "text/plain": [
              "<Figure size 432x288 with 1 Axes>"
            ]
          },
          "metadata": {
            "tags": [],
            "needs_background": "light"
          }
        }
      ]
    },
    {
      "cell_type": "markdown",
      "metadata": {
        "id": "zVgWemBrQ3OY"
      },
      "source": [
        "Predict the value of X_test data.\r\n",
        "The accuracy of the classifier when features are taken from column number IQ to IZ is .75."
      ]
    },
    {
      "cell_type": "code",
      "metadata": {
        "colab": {
          "base_uri": "https://localhost:8080/"
        },
        "id": "7fbF91IwQvDI",
        "outputId": "fd71e3f6-7b27-4181-fa6b-139843a4b9d3"
      },
      "source": [
        "#Print the  accuracy of testing data\r\n",
        "ypred = clf.predict(X_test)\r\n",
        "\r\n",
        "print(\"Predicted y value of x_test data \",ypred)\r\n",
        "accuracy_BN = accuracy_score(y_true=y_test, y_pred=ypred)\r\n",
        "print(\"Accuracy of BN selected classifier \",accuracy_BN)"
      ],
      "execution_count": 262,
      "outputs": [
        {
          "output_type": "stream",
          "text": [
            "Predicted y value of x_test data  [0. 0. 0. 0. 0. 0. 0. 0.]\n",
            "Accuracy of BN selected classifier  0.75\n"
          ],
          "name": "stdout"
        }
      ]
    },
    {
      "cell_type": "markdown",
      "metadata": {
        "id": "gybcm_uIJ4Mw"
      },
      "source": [
        "#With 10 Fold cross validation when features is from IQ to IZ"
      ]
    },
    {
      "cell_type": "code",
      "metadata": {
        "colab": {
          "base_uri": "https://localhost:8080/"
        },
        "id": "3n65Te2HJ3T7",
        "outputId": "78e8f220-204d-4b84-8180-e4b9db00a655"
      },
      "source": [
        "ypred = cross_val_predict(clf, X,y, cv=10)\r\n",
        "true_negative, false_positive, false_negative, true_positive = confusion_matrix(y, ypred).ravel()\r\n",
        "\r\n",
        "print(\"true_positive \",true_positive)\r\n",
        "print(\"true_negative \",true_negative)\r\n",
        "print(\"false_negative \",false_negative)\r\n",
        "print(\"false_positive \",false_positive)\r\n",
        "\r\n",
        "Accuracy = (true_positive+true_negative)/(true_negative+true_positive+false_positive+false_negative)\r\n",
        "Precision =  true_positive / (true_positive+false_positive)\r\n",
        "Recall =  true_positive / (true_positive+false_negative)\r\n",
        "\r\n",
        "print(\"Accuracy with 10 fold cross validation \",Accuracy)\r\n",
        "\r\n",
        "print(\"Precision with 10 fold cross validation \",Precision)\r\n",
        "\r\n",
        "print(\"Recall with 10 fold cross validation \",Recall)"
      ],
      "execution_count": 186,
      "outputs": [
        {
          "output_type": "stream",
          "text": [
            "true_positive  4\n",
            "true_negative  24\n",
            "false_negative  10\n",
            "false_positive  2\n",
            "Accuracy with 10 fold cross validation  0.7\n",
            "Precision with 10 fold cross validation  0.6666666666666666\n",
            "Recall with 10 fold cross validation  0.2857142857142857\n"
          ],
          "name": "stdout"
        }
      ]
    },
    {
      "cell_type": "markdown",
      "metadata": {
        "id": "2J0xs__tKDjH"
      },
      "source": [
        "#With 20 Fold cross validation when features are from IQ to IZ"
      ]
    },
    {
      "cell_type": "code",
      "metadata": {
        "colab": {
          "base_uri": "https://localhost:8080/"
        },
        "id": "EfN3y9NHKLMP",
        "outputId": "c82c05c1-0ca0-4649-e4ae-e477b33eac1f"
      },
      "source": [
        "ypred = cross_val_predict(clf, X, y, cv=20)\r\n",
        "true_negative, false_positive, false_negative, true_positive = confusion_matrix(y, ypred).ravel()\r\n",
        "\r\n",
        "print(\"true_positive \",true_positive)\r\n",
        "print(\"true_negative \",true_negative)\r\n",
        "print(\"false_negative \",false_negative)\r\n",
        "print(\"false_positive \",false_positive)\r\n",
        "\r\n",
        "Accuracy = (true_positive+true_negative)/(true_negative+true_positive+false_positive+false_negative)\r\n",
        "Precision =  true_positive / (true_positive+false_positive)\r\n",
        "Recall =  true_positive / (true_positive+false_negative)\r\n",
        "\r\n",
        "print(\"Accuracy with 20 fold cross validation \",Accuracy)\r\n",
        "\r\n",
        "print(\"Precision with 20 fold cross validation \",Precision)\r\n",
        "\r\n",
        "print(\"Recall with 20 fold cross validation \",Recall)\r\n"
      ],
      "execution_count": 187,
      "outputs": [
        {
          "output_type": "stream",
          "text": [
            "true_positive  4\n",
            "true_negative  24\n",
            "false_negative  10\n",
            "false_positive  2\n",
            "Accuracy with 20 fold cross validation  0.7\n",
            "Precision with 20 fold cross validation  0.6666666666666666\n",
            "Recall with 20 fold cross validation  0.2857142857142857\n"
          ],
          "name": "stdout"
        },
        {
          "output_type": "stream",
          "text": [
            "/usr/local/lib/python3.6/dist-packages/sklearn/model_selection/_split.py:667: UserWarning: The least populated class in y has only 14 members, which is less than n_splits=20.\n",
            "  % (min_groups, self.n_splits)), UserWarning)\n"
          ],
          "name": "stderr"
        }
      ]
    },
    {
      "cell_type": "code",
      "metadata": {
        "colab": {
          "base_uri": "https://localhost:8080/"
        },
        "id": "LktUCMtmSOd0",
        "outputId": "a32e38c7-27da-472d-b9d9-b1c6c577de9b"
      },
      "source": [
        "#Print the mean accuracy of testing data\r\n",
        "X_test_transformed = scaler.transform(X_test)\r\n",
        "clf.score(X_test_transformed, y_test)\r\n",
        "mean_accuracy_BN = clf.score(X_test_transformed, y_test)\r\n",
        "print(\"Mean accuracy\",mean_accuracy_BN)"
      ],
      "execution_count": 263,
      "outputs": [
        {
          "output_type": "stream",
          "text": [
            "Mean accuracy 0.875\n"
          ],
          "name": "stdout"
        }
      ]
    },
    {
      "cell_type": "code",
      "metadata": {
        "colab": {
          "base_uri": "https://localhost:8080/"
        },
        "id": "s13ZwQ2TS4zw",
        "outputId": "ba79a684-bcc2-4d1a-86ca-0ca4c4025420"
      },
      "source": [
        "#Show the 10 fold cross validation\r\n",
        "cv_columns_IQIZ_10_fold = cross_val_score(clf, X, y, cv=10,scoring=\"accuracy\")\r\n",
        "\r\n",
        "\r\n",
        "print(\"With 10 fold cross validation accuracy array\",cv_columns_BN_10_fold)"
      ],
      "execution_count": 264,
      "outputs": [
        {
          "output_type": "stream",
          "text": [
            "With 10 fold cross validation accuracy array [0.75 0.75 0.5  0.5  0.75 0.75 0.75 0.75 0.75 0.75]\n"
          ],
          "name": "stdout"
        }
      ]
    },
    {
      "cell_type": "code",
      "metadata": {
        "colab": {
          "base_uri": "https://localhost:8080/"
        },
        "id": "KJCKdV7VTFwZ",
        "outputId": "39c59147-2a18-49d5-e9b2-8aba8c68bd6d"
      },
      "source": [
        "#Show the 20 fold cross validation\r\n",
        "cv_columns_IQIZ_20_fold =  cross_val_score(clf, X, y, cv=20,scoring=\"accuracy\")\r\n",
        "print(\"With 20 fold cross valiadtion accuracy array\", cv_columns_BN_20_fold)"
      ],
      "execution_count": 265,
      "outputs": [
        {
          "output_type": "stream",
          "text": [
            "With 20 fold cross valiadtion accuracy array [1.  0.5 1.  0.5 0.5 0.5 0.5 0.5 0.5 0.5 0.5 0.5 0.5 0.5 1.  1.  1.  1.\n",
            " 1.  1. ]\n"
          ],
          "name": "stdout"
        },
        {
          "output_type": "stream",
          "text": [
            "/usr/local/lib/python3.6/dist-packages/sklearn/model_selection/_split.py:667: UserWarning: The least populated class in y has only 14 members, which is less than n_splits=20.\n",
            "  % (min_groups, self.n_splits)), UserWarning)\n"
          ],
          "name": "stderr"
        }
      ]
    },
    {
      "cell_type": "code",
      "metadata": {
        "colab": {
          "base_uri": "https://localhost:8080/",
          "height": 279
        },
        "id": "kn6s75hRTMj9",
        "outputId": "0a4f02bf-79cf-4c28-b4ef-437f359743dd"
      },
      "source": [
        "predicted = cross_val_predict(clf, X_train, y_train, cv=10)\r\n",
        "fig, ax = plt.subplots()\r\n",
        "ax.scatter(y_train, predicted)\r\n",
        "ax.plot([y_train.min(), y_train.max()], [y_train.min(), y_train.max()], 'k--', lw=4)\r\n",
        "ax.set_xlabel('Measured')\r\n",
        "ax.set_ylabel('Predicted')\r\n",
        "plt.show()"
      ],
      "execution_count": 191,
      "outputs": [
        {
          "output_type": "display_data",
          "data": {
            "image/png": "[encoded data removed]",
            "text/plain": [
              "<Figure size 432x288 with 1 Axes>"
            ]
          },
          "metadata": {
            "tags": [],
            "needs_background": "light"
          }
        }
      ]
    },
    {
      "cell_type": "code",
      "metadata": {
        "colab": {
          "base_uri": "https://localhost:8080/",
          "height": 283
        },
        "id": "JRwZpNWiTddD",
        "outputId": "b55d32ae-168b-4bcd-c5b8-8c90aea67c6e"
      },
      "source": [
        "cv_columns_IQIZ_10_fold_df = pd.DataFrame()\r\n",
        "\r\n",
        "cv_columns_IQIZ_10_fold_df[\"cv_values\"] = pd.Series(cv_columns_IQIZ_10_fold)\r\n",
        "\r\n",
        "cv_columns_IQIZ_10_fold_df.plot.line()"
      ],
      "execution_count": 192,
      "outputs": [
        {
          "output_type": "execute_result",
          "data": {
            "text/plain": [
              "<matplotlib.axes._subplots.AxesSubplot at 0x7f7adf24aef0>"
            ]
          },
          "metadata": {
            "tags": []
          },
          "execution_count": 192
        },
        {
          "output_type": "display_data",
          "data": {
            "image/png": "[encoded data removed]",
            "text/plain": [
              "<Figure size 432x288 with 1 Axes>"
            ]
          },
          "metadata": {
            "tags": [],
            "needs_background": "light"
          }
        }
      ]
    },
    {
      "cell_type": "code",
      "metadata": {
        "colab": {
          "base_uri": "https://localhost:8080/",
          "height": 283
        },
        "id": "8yFkG4QkTrN9",
        "outputId": "4df38f19-0a6a-4570-a87f-4cbc1c0c4d06"
      },
      "source": [
        "cv_columns_IQIZ_20_fold_df = pd.DataFrame()\r\n",
        "\r\n",
        "cv_columns_IQIZ_20_fold_df[\"cv_values\"] = pd.Series(cv_columns_IQIZ_20_fold)\r\n",
        "\r\n",
        "cv_columns_IQIZ_20_fold_df.plot.line()"
      ],
      "execution_count": 193,
      "outputs": [
        {
          "output_type": "execute_result",
          "data": {
            "text/plain": [
              "<matplotlib.axes._subplots.AxesSubplot at 0x7f7adf1d5ba8>"
            ]
          },
          "metadata": {
            "tags": []
          },
          "execution_count": 193
        },
        {
          "output_type": "display_data",
          "data": {
            "image/png": "[encoded data removed]",
            "text/plain": [
              "<Figure size 432x288 with 1 Axes>"
            ]
          },
          "metadata": {
            "tags": [],
            "needs_background": "light"
          }
        }
      ]
    },
    {
      "cell_type": "code",
      "metadata": {
        "colab": {
          "base_uri": "https://localhost:8080/",
          "height": 17
        },
        "id": "il5P7gQsT-b6",
        "outputId": "b30554de-aebd-4f76-db69-cc6577d37ad9"
      },
      "source": [
        "from google.colab import files\r\n",
        "Merged_dataFrame.to_csv(\"R_NR_IQtoIZ.csv\", encoding='utf-8', index=False)\r\n",
        "\r\n",
        "files.download(\"R_NR_IQtoIZ.csv\")"
      ],
      "execution_count": 204,
      "outputs": [
        {
          "output_type": "display_data",
          "data": {
            "application/javascript": [
              "\n",
              "    async function download(id, filename, size) {\n",
              "      if (!google.colab.kernel.accessAllowed) {\n",
              "        return;\n",
              "      }\n",
              "      const div = document.createElement('div');\n",
              "      const label = document.createElement('label');\n",
              "      label.textContent = `Downloading \"${filename}\": `;\n",
              "      div.appendChild(label);\n",
              "      const progress = document.createElement('progress');\n",
              "      progress.max = size;\n",
              "      div.appendChild(progress);\n",
              "      document.body.appendChild(div);\n",
              "\n",
              "      const buffers = [];\n",
              "      let downloaded = 0;\n",
              "\n",
              "      const channel = await google.colab.kernel.comms.open(id);\n",
              "      // Send a message to notify the kernel that we're ready.\n",
              "      channel.send({})\n",
              "\n",
              "      for await (const message of channel.messages) {\n",
              "        // Send a message to notify the kernel that we're ready.\n",
              "        channel.send({})\n",
              "        if (message.buffers) {\n",
              "          for (const buffer of message.buffers) {\n",
              "            buffers.push(buffer);\n",
              "            downloaded += buffer.byteLength;\n",
              "            progress.value = downloaded;\n",
              "          }\n",
              "        }\n",
              "      }\n",
              "      const blob = new Blob(buffers, {type: 'application/binary'});\n",
              "      const a = document.createElement('a');\n",
              "      a.href = window.URL.createObjectURL(blob);\n",
              "      a.download = filename;\n",
              "      div.appendChild(a);\n",
              "      a.click();\n",
              "      div.remove();\n",
              "    }\n",
              "  "
            ],
            "text/plain": [
              "<IPython.core.display.Javascript object>"
            ]
          },
          "metadata": {
            "tags": []
          }
        },
        {
          "output_type": "display_data",
          "data": {
            "application/javascript": [
              "download(\"download_8ca42a9c-9d8c-4cb4-954a-1e3cf89b8d42\", \"R_NR_IQtoIZ.csv\", 7716)"
            ],
            "text/plain": [
              "<IPython.core.display.Javascript object>"
            ]
          },
          "metadata": {
            "tags": []
          }
        }
      ]
    },
    {
      "cell_type": "code",
      "metadata": {
        "id": "stI-o1NiTHpj"
      },
      "source": [
        ""
      ],
      "execution_count": null,
      "outputs": []
    }
  ]
}